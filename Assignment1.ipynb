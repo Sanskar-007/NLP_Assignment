{
 "cells": [
  {
   "cell_type": "markdown",
   "metadata": {},
   "source": [
    "### Q1. sent = 'They told that their ages are 23, 25 and 29 respectively.'\n",
    "##### 1. Find the average ages\n",
    "##### 2. Count total number of words starts with 't'/'T'\n",
    "##### 3. Count total punctuation symbols\n",
    "##### 4. Print the words in capital letter which ends with 'd'\n",
    "##### 5. Merge all the words and print(no punchuations)\n"
   ]
  },
  {
   "cell_type": "code",
   "execution_count": 39,
   "metadata": {},
   "outputs": [],
   "source": [
    "import nltk\n",
    "from nltk.tokenize import word_tokenize, sent_tokenize\n",
    "from nltk.corpus import stopwords"
   ]
  },
  {
   "cell_type": "code",
   "execution_count": 40,
   "metadata": {},
   "outputs": [],
   "source": [
    "sent = 'They told that their ages are 23, 25 and 29 respectively.'\n",
    "#Word tokenization (returns list)\n",
    "words = word_tokenize(sent)"
   ]
  },
  {
   "cell_type": "code",
   "execution_count": 41,
   "metadata": {},
   "outputs": [
    {
     "name": "stdout",
     "output_type": "stream",
     "text": [
      "Average age in given sentencce is 25.67 years.\n"
     ]
    }
   ],
   "source": [
    "# 1. Find the average age\n",
    "age = [int(age) for age in words if age.isdigit()]\n",
    "avg = round(sum(age)/len(age) , 2)\n",
    "print(f'Average age in given sentencce is {avg} years.')"
   ]
  },
  {
   "cell_type": "code",
   "execution_count": 42,
   "metadata": {},
   "outputs": [
    {
     "name": "stdout",
     "output_type": "stream",
     "text": [
      "Words starting with 't'/'T': 4 \n"
     ]
    }
   ],
   "source": [
    "# 2. Count total number of words starts with 't'/'T'\n",
    "words = word_tokenize(sent)\n",
    "tw = [word for word in words if word.lower().startswith('t')]\n",
    "print(f\"Words starting with 't'/'T': {len(tw)} \")"
   ]
  },
  {
   "cell_type": "code",
   "execution_count": 43,
   "metadata": {},
   "outputs": [
    {
     "name": "stdout",
     "output_type": "stream",
     "text": [
      "Total number of Punctuation symbols: 2\n"
     ]
    }
   ],
   "source": [
    "\n",
    "\n",
    "# 3. Count total punctuation symbols\n",
    "import string\n",
    "punctuations = [char for char in sent if char in string.punctuation]\n",
    "print(f\"Total number of Punctuation symbols: {len(punctuations)}\")"
   ]
  },
  {
   "cell_type": "code",
   "execution_count": 44,
   "metadata": {},
   "outputs": [
    {
     "name": "stdout",
     "output_type": "stream",
     "text": [
      "Words in capital letter which ends with 'd': ['TOLD', 'AND']\n"
     ]
    }
   ],
   "source": [
    "# 4. Print the words in capital letter which ends with 'd'\n",
    "dw = [word.upper() for word in words if word.endswith('d')]\n",
    "print(f\"Words in capital letter which ends with 'd': {dw}\")\n"
   ]
  },
  {
   "cell_type": "code",
   "execution_count": 45,
   "metadata": {},
   "outputs": [
    {
     "name": "stdout",
     "output_type": "stream",
     "text": [
      "They told that their ages are 23 25 and 29 respectively\n"
     ]
    }
   ],
   "source": [
    "# 5. Merge all the words and print(no punctuations)\n",
    "merged_words = [word for word in words if word not in string.punctuation]\n",
    "merged_text = ' '.join(merged_words)\n",
    "print(merged_text)\n"
   ]
  },
  {
   "cell_type": "markdown",
   "metadata": {},
   "source": [
    "\n",
    "### **Q2 Open the wikipedia page of Indian flag and perform following analysis**\n",
    "##### 1. count total number of Words\n",
    "##### 2. Count percentage of punctuation marks.\n",
    "##### 3. Print total number of lines\n",
    "##### 4. How many words are in title case\n",
    "##### 5. Remove the numbers and print the text"
   ]
  },
  {
   "cell_type": "code",
   "execution_count": 46,
   "metadata": {},
   "outputs": [],
   "source": [
    "# we will take Part of Text data from the required wiki page(Indian flag) to perform the given Task\n",
    "# taking First 4 paragraph\n",
    "text =\"\"\"The national flag of India, colloquially called Tiraṅgā (the tricolour), is a horizontal rectangular tricolour flag, the colours being of India saffron, white and India green; with the Ashoka Chakra, a 24 - spoke wheel, in navy blue at its centre.[1][2] It was adopted in its present form during a meeting of the Constituent Assembly held on 22 July 1947, and it became the official flag of the Union of India on 15 August 1947. The flag was subsequently retained as that of the Republic of India. In India, the term \"tricolour\" almost always refers to the Indian national flag.\n",
    "\n",
    "The flag is based on the Swaraj flag, a flag of the Indian National Congress adopted by Mahatma Gandhi after making significant modifications to the design proposed by Pingali Venkayya.[3] This flag included charkha which was replaced with chakra in 1947 by Jawaharlal Nehru.[4]\n",
    "\n",
    "Before the amendment of the flag code in 2021, the flag was by law only to be made of khadi; a special type of hand-spun cloth or silk, made popular by Mahatma Gandhi. The manufacturing process and specifications for the flag are laid out by the Bureau of Indian Standards. The right to manufacture the flag is held by the Khadi Development and Village Industries Commission, which allocates it to regional groups. As of 2023, there are 4 units in India that are licensed to manufacture the flag.\n",
    "\n",
    "Usage of the flag is governed by the Flag Code of India and other laws relating to the national emblems. The original code prohibited use of the flag by private citizens except on national days such as the Independence day and the Republic Day. In 2002, on hearing an appeal from a private citizen, Naveen Jindal, the Supreme Court of India directed the Government of India to amend the code to allow flag usage by private citizens. Subsequently, the Union Cabinet of India amended the code to allow limited usage. The code was amended once more in 2005 to allow some additional use including adaptations on certain forms of clothing. The flag code also governs the protocol of flying the flag and its use in conjunction with other national and non-national flags.\"\"\""
   ]
  },
  {
   "cell_type": "code",
   "execution_count": 47,
   "metadata": {},
   "outputs": [
    {
     "data": {
      "text/plain": [
       "['The',\n",
       " 'national',\n",
       " 'flag',\n",
       " 'of',\n",
       " 'India',\n",
       " ',',\n",
       " 'colloquially',\n",
       " 'called',\n",
       " 'Tiraṅgā',\n",
       " '(',\n",
       " 'the',\n",
       " 'tricolour',\n",
       " ')',\n",
       " ',',\n",
       " 'is',\n",
       " 'a',\n",
       " 'horizontal',\n",
       " 'rectangular',\n",
       " 'tricolour',\n",
       " 'flag',\n",
       " ',',\n",
       " 'the',\n",
       " 'colours',\n",
       " 'being',\n",
       " 'of',\n",
       " 'India',\n",
       " 'saffron',\n",
       " ',',\n",
       " 'white',\n",
       " 'and',\n",
       " 'India',\n",
       " 'green',\n",
       " ';',\n",
       " 'with',\n",
       " 'the',\n",
       " 'Ashoka',\n",
       " 'Chakra',\n",
       " ',',\n",
       " 'a',\n",
       " '24',\n",
       " '-',\n",
       " 'spoke',\n",
       " 'wheel',\n",
       " ',',\n",
       " 'in',\n",
       " 'navy',\n",
       " 'blue',\n",
       " 'at',\n",
       " 'its',\n",
       " 'centre',\n",
       " '.',\n",
       " '[',\n",
       " '1',\n",
       " ']',\n",
       " '[',\n",
       " '2',\n",
       " ']',\n",
       " 'It',\n",
       " 'was',\n",
       " 'adopted',\n",
       " 'in',\n",
       " 'its',\n",
       " 'present',\n",
       " 'form',\n",
       " 'during',\n",
       " 'a',\n",
       " 'meeting',\n",
       " 'of',\n",
       " 'the',\n",
       " 'Constituent',\n",
       " 'Assembly',\n",
       " 'held',\n",
       " 'on',\n",
       " '22',\n",
       " 'July',\n",
       " '1947',\n",
       " ',',\n",
       " 'and',\n",
       " 'it',\n",
       " 'became',\n",
       " 'the',\n",
       " 'official',\n",
       " 'flag',\n",
       " 'of',\n",
       " 'the',\n",
       " 'Union',\n",
       " 'of',\n",
       " 'India',\n",
       " 'on',\n",
       " '15',\n",
       " 'August',\n",
       " '1947',\n",
       " '.',\n",
       " 'The',\n",
       " 'flag',\n",
       " 'was',\n",
       " 'subsequently',\n",
       " 'retained',\n",
       " 'as',\n",
       " 'that',\n",
       " 'of',\n",
       " 'the',\n",
       " 'Republic',\n",
       " 'of',\n",
       " 'India',\n",
       " '.',\n",
       " 'In',\n",
       " 'India',\n",
       " ',',\n",
       " 'the',\n",
       " 'term',\n",
       " '``',\n",
       " 'tricolour',\n",
       " \"''\",\n",
       " 'almost',\n",
       " 'always',\n",
       " 'refers',\n",
       " 'to',\n",
       " 'the',\n",
       " 'Indian',\n",
       " 'national',\n",
       " 'flag',\n",
       " '.',\n",
       " 'The',\n",
       " 'flag',\n",
       " 'is',\n",
       " 'based',\n",
       " 'on',\n",
       " 'the',\n",
       " 'Swaraj',\n",
       " 'flag',\n",
       " ',',\n",
       " 'a',\n",
       " 'flag',\n",
       " 'of',\n",
       " 'the',\n",
       " 'Indian',\n",
       " 'National',\n",
       " 'Congress',\n",
       " 'adopted',\n",
       " 'by',\n",
       " 'Mahatma',\n",
       " 'Gandhi',\n",
       " 'after',\n",
       " 'making',\n",
       " 'significant',\n",
       " 'modifications',\n",
       " 'to',\n",
       " 'the',\n",
       " 'design',\n",
       " 'proposed',\n",
       " 'by',\n",
       " 'Pingali',\n",
       " 'Venkayya',\n",
       " '.',\n",
       " '[',\n",
       " '3',\n",
       " ']',\n",
       " 'This',\n",
       " 'flag',\n",
       " 'included',\n",
       " 'charkha',\n",
       " 'which',\n",
       " 'was',\n",
       " 'replaced',\n",
       " 'with',\n",
       " 'chakra',\n",
       " 'in',\n",
       " '1947',\n",
       " 'by',\n",
       " 'Jawaharlal',\n",
       " 'Nehru',\n",
       " '.',\n",
       " '[',\n",
       " '4',\n",
       " ']',\n",
       " 'Before',\n",
       " 'the',\n",
       " 'amendment',\n",
       " 'of',\n",
       " 'the',\n",
       " 'flag',\n",
       " 'code',\n",
       " 'in',\n",
       " '2021',\n",
       " ',',\n",
       " 'the',\n",
       " 'flag',\n",
       " 'was',\n",
       " 'by',\n",
       " 'law',\n",
       " 'only',\n",
       " 'to',\n",
       " 'be',\n",
       " 'made',\n",
       " 'of',\n",
       " 'khadi',\n",
       " ';',\n",
       " 'a',\n",
       " 'special',\n",
       " 'type',\n",
       " 'of',\n",
       " 'hand-spun',\n",
       " 'cloth',\n",
       " 'or',\n",
       " 'silk',\n",
       " ',',\n",
       " 'made',\n",
       " 'popular',\n",
       " 'by',\n",
       " 'Mahatma',\n",
       " 'Gandhi',\n",
       " '.',\n",
       " 'The',\n",
       " 'manufacturing',\n",
       " 'process',\n",
       " 'and',\n",
       " 'specifications',\n",
       " 'for',\n",
       " 'the',\n",
       " 'flag',\n",
       " 'are',\n",
       " 'laid',\n",
       " 'out',\n",
       " 'by',\n",
       " 'the',\n",
       " 'Bureau',\n",
       " 'of',\n",
       " 'Indian',\n",
       " 'Standards',\n",
       " '.',\n",
       " 'The',\n",
       " 'right',\n",
       " 'to',\n",
       " 'manufacture',\n",
       " 'the',\n",
       " 'flag',\n",
       " 'is',\n",
       " 'held',\n",
       " 'by',\n",
       " 'the',\n",
       " 'Khadi',\n",
       " 'Development',\n",
       " 'and',\n",
       " 'Village',\n",
       " 'Industries',\n",
       " 'Commission',\n",
       " ',',\n",
       " 'which',\n",
       " 'allocates',\n",
       " 'it',\n",
       " 'to',\n",
       " 'regional',\n",
       " 'groups',\n",
       " '.',\n",
       " 'As',\n",
       " 'of',\n",
       " '2023',\n",
       " ',',\n",
       " 'there',\n",
       " 'are',\n",
       " '4',\n",
       " 'units',\n",
       " 'in',\n",
       " 'India',\n",
       " 'that',\n",
       " 'are',\n",
       " 'licensed',\n",
       " 'to',\n",
       " 'manufacture',\n",
       " 'the',\n",
       " 'flag',\n",
       " '.',\n",
       " 'Usage',\n",
       " 'of',\n",
       " 'the',\n",
       " 'flag',\n",
       " 'is',\n",
       " 'governed',\n",
       " 'by',\n",
       " 'the',\n",
       " 'Flag',\n",
       " 'Code',\n",
       " 'of',\n",
       " 'India',\n",
       " 'and',\n",
       " 'other',\n",
       " 'laws',\n",
       " 'relating',\n",
       " 'to',\n",
       " 'the',\n",
       " 'national',\n",
       " 'emblems',\n",
       " '.',\n",
       " 'The',\n",
       " 'original',\n",
       " 'code',\n",
       " 'prohibited',\n",
       " 'use',\n",
       " 'of',\n",
       " 'the',\n",
       " 'flag',\n",
       " 'by',\n",
       " 'private',\n",
       " 'citizens',\n",
       " 'except',\n",
       " 'on',\n",
       " 'national',\n",
       " 'days',\n",
       " 'such',\n",
       " 'as',\n",
       " 'the',\n",
       " 'Independence',\n",
       " 'day',\n",
       " 'and',\n",
       " 'the',\n",
       " 'Republic',\n",
       " 'Day',\n",
       " '.',\n",
       " 'In',\n",
       " '2002',\n",
       " ',',\n",
       " 'on',\n",
       " 'hearing',\n",
       " 'an',\n",
       " 'appeal',\n",
       " 'from',\n",
       " 'a',\n",
       " 'private',\n",
       " 'citizen',\n",
       " ',',\n",
       " 'Naveen',\n",
       " 'Jindal',\n",
       " ',',\n",
       " 'the',\n",
       " 'Supreme',\n",
       " 'Court',\n",
       " 'of',\n",
       " 'India',\n",
       " 'directed',\n",
       " 'the',\n",
       " 'Government',\n",
       " 'of',\n",
       " 'India',\n",
       " 'to',\n",
       " 'amend',\n",
       " 'the',\n",
       " 'code',\n",
       " 'to',\n",
       " 'allow',\n",
       " 'flag',\n",
       " 'usage',\n",
       " 'by',\n",
       " 'private',\n",
       " 'citizens',\n",
       " '.',\n",
       " 'Subsequently',\n",
       " ',',\n",
       " 'the',\n",
       " 'Union',\n",
       " 'Cabinet',\n",
       " 'of',\n",
       " 'India',\n",
       " 'amended',\n",
       " 'the',\n",
       " 'code',\n",
       " 'to',\n",
       " 'allow',\n",
       " 'limited',\n",
       " 'usage',\n",
       " '.',\n",
       " 'The',\n",
       " 'code',\n",
       " 'was',\n",
       " 'amended',\n",
       " 'once',\n",
       " 'more',\n",
       " 'in',\n",
       " '2005',\n",
       " 'to',\n",
       " 'allow',\n",
       " 'some',\n",
       " 'additional',\n",
       " 'use',\n",
       " 'including',\n",
       " 'adaptations',\n",
       " 'on',\n",
       " 'certain',\n",
       " 'forms',\n",
       " 'of',\n",
       " 'clothing',\n",
       " '.',\n",
       " 'The',\n",
       " 'flag',\n",
       " 'code',\n",
       " 'also',\n",
       " 'governs',\n",
       " 'the',\n",
       " 'protocol',\n",
       " 'of',\n",
       " 'flying',\n",
       " 'the',\n",
       " 'flag',\n",
       " 'and',\n",
       " 'its',\n",
       " 'use',\n",
       " 'in',\n",
       " 'conjunction',\n",
       " 'with',\n",
       " 'other',\n",
       " 'national',\n",
       " 'and',\n",
       " 'non-national',\n",
       " 'flags',\n",
       " '.']"
      ]
     },
     "execution_count": 47,
     "metadata": {},
     "output_type": "execute_result"
    }
   ],
   "source": [
    "words = word_tokenize(text)\n",
    "words"
   ]
  },
  {
   "cell_type": "code",
   "execution_count": 48,
   "metadata": {},
   "outputs": [
    {
     "name": "stdout",
     "output_type": "stream",
     "text": [
      "Total number of words: 415\n"
     ]
    }
   ],
   "source": [
    "# 1. Count the total number of words\n",
    "total_words = len(words)\n",
    "print(f\"Total number of words: {total_words}\")"
   ]
  },
  {
   "cell_type": "code",
   "execution_count": 49,
   "metadata": {},
   "outputs": [
    {
     "name": "stdout",
     "output_type": "stream",
     "text": [
      "Total number of punctuation marks: 50\n",
      "Percentage of punctuation marks: 12.05%\n"
     ]
    }
   ],
   "source": [
    "# 2. Calculate the percentage of punctuation marks\n",
    "# Count the number of punctuation marks\n",
    "punctuation_marks = [char for char in text if char in string.punctuation]\n",
    "num_punct_marks = len(punctuation_marks)\n",
    "print(f\"Total number of punctuation marks: {num_punct_marks}\")\n",
    "# Percentage of punctuation marks\n",
    "per_punct = (num_punct_marks / total_words) * 100\n",
    "print(f\"Percentage of punctuation marks: {round(per_punct, 2)}%\")"
   ]
  },
  {
   "cell_type": "code",
   "execution_count": 50,
   "metadata": {},
   "outputs": [
    {
     "name": "stdout",
     "output_type": "stream",
     "text": [
      "Total number of lines in the given text: 16\n"
     ]
    }
   ],
   "source": [
    "# 3. Count the total number of lines\n",
    "sent_text = sent_tokenize(text)\n",
    "print(f\"Total number of lines in the given text: {len(sent_text)}\")"
   ]
  },
  {
   "cell_type": "code",
   "execution_count": 51,
   "metadata": {},
   "outputs": [
    {
     "name": "stdout",
     "output_type": "stream",
     "text": [
      "Total number of words in title case: 69\n"
     ]
    }
   ],
   "source": [
    "#4. How many word in title case\n",
    "tc_words = [word for word in words if word.istitle()]\n",
    "num_tcw = len(tc_words)\n",
    "print(f\"Total number of words in title case: {num_tcw}\")"
   ]
  },
  {
   "cell_type": "code",
   "execution_count": 53,
   "metadata": {},
   "outputs": [
    {
     "name": "stdout",
     "output_type": "stream",
     "text": [
      "The national flag of India , colloquially called Tiraṅgā ( the tricolour ) , is a horizontal rectangular tricolour flag , the colours being of India saffron , white and India green ; with the Ashoka Chakra , a - spoke wheel , in navy blue at its centre . [ ] [ ] It was adopted in its present form during a meeting of the Constituent Assembly held on July , and it became the official flag of the Union of India on August . The flag was subsequently retained as that of the Republic of India . In India , the term `` tricolour '' almost always refers to the Indian national flag . The flag is based on the Swaraj flag , a flag of the Indian National Congress adopted by Mahatma Gandhi after making significant modifications to the design proposed by Pingali Venkayya . [ ] This flag included charkha which was replaced with chakra in by Jawaharlal Nehru . [ ] Before the amendment of the flag code in , the flag was by law only to be made of khadi ; a special type of hand-spun cloth or silk , made popular by Mahatma Gandhi . The manufacturing process and specifications for the flag are laid out by the Bureau of Indian Standards . The right to manufacture the flag is held by the Khadi Development and Village Industries Commission , which allocates it to regional groups . As of , there are units in India that are licensed to manufacture the flag . Usage of the flag is governed by the Flag Code of India and other laws relating to the national emblems . The original code prohibited use of the flag by private citizens except on national days such as the Independence day and the Republic Day . In , on hearing an appeal from a private citizen , Naveen Jindal , the Supreme Court of India directed the Government of India to amend the code to allow flag usage by private citizens . Subsequently , the Union Cabinet of India amended the code to allow limited usage . The code was amended once more in to allow some additional use including adaptations on certain forms of clothing . The flag code also governs the protocol of flying the flag and its use in conjunction with other national and non-national flags .\n"
     ]
    }
   ],
   "source": [
    "#5. remove the numbers and print\n",
    "words_without_num = [word for word in words if not word.isdigit()]\n",
    "new_text = ' '.join(words_without_num)\n",
    "print(new_text)"
   ]
  },
  {
   "cell_type": "markdown",
   "metadata": {},
   "source": [
    "###  XXXX________________________________XXXXX________________________________XXXX"
   ]
  }
 ],
 "metadata": {
  "kernelspec": {
   "display_name": "base",
   "language": "python",
   "name": "python3"
  },
  "language_info": {
   "codemirror_mode": {
    "name": "ipython",
    "version": 3
   },
   "file_extension": ".py",
   "mimetype": "text/x-python",
   "name": "python",
   "nbconvert_exporter": "python",
   "pygments_lexer": "ipython3",
   "version": "3.11.7"
  }
 },
 "nbformat": 4,
 "nbformat_minor": 2
}
